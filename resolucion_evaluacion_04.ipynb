{
 "cells": [
  {
   "cell_type": "markdown",
   "metadata": {},
   "source": [
    "## **RESOLUCIÓN EVALUACIÓN MÓDULO 3**\n",
    "## **PARTE 04**\n",
    "#### **ANÁLISIS DE DATOS**"
   ]
  },
  {
   "cell_type": "markdown",
   "metadata": {},
   "source": [
    "- Librerías"
   ]
  },
  {
   "cell_type": "code",
   "execution_count": null,
   "metadata": {},
   "outputs": [],
   "source": [
    "# Tratamiento de datos\n",
    "# -----------------------------------------------------------------------\n",
    "import pandas as pd\n",
    "import numpy as np\n",
    "\n",
    "# Libreria Regex para buscar patrones\n",
    "import re\n",
    "\n",
    "# Imputación de nulos usando métodos avanzados estadísticos\n",
    "# -----------------------------------------------------------------------\n",
    "from sklearn.impute import SimpleImputer\n",
    "from sklearn.experimental import enable_iterative_imputer\n",
    "from sklearn.impute import IterativeImputer\n",
    "from sklearn.impute import KNNImputer\n",
    "\n",
    "# Librerías de visualización\n",
    "# -----------------------------------------------------------------------\n",
    "import seaborn as sns\n",
    "import matplotlib.pyplot as plt\n",
    "# Configuración\n",
    "# -----------------------------------------------------------------------\n",
    "pd.set_option('display.max_columns', None) # para poder visualizar todas las columnas de los DataFrames\n",
    "pd.set_option('display.max_rows', None)\n",
    "pd.set_option('display.max_colwidth', None)"
   ]
  },
  {
   "cell_type": "markdown",
   "metadata": {},
   "source": [
    "#### **Fase 3: Evaluación de Diferencias en Reservas de Vuelos por Nivel Educativo**\n",
    "\n",
    "Utilizando un conjunto de datos que hemos compartido, se busca evaluar si existen\n",
    "diferencias significaEvas en el número de vuelos reservados según el nivel educativo de\n",
    "los clientes. Para ello, los pasos a seguir son:\n",
    "\n",
    "1. Preparación de Datos: Filtra el conjunto de datos para incluir únicamente las\n",
    "columnas relevantes: 'Flights Booked' y 'Education'.\n",
    "\n",
    "2. Análisis Descriptivo: Agrupa los datos por nivel educativo y calcula estadísticas\n",
    "descriptivas básicas (como el promedio, la desviación estándar, los percentiles…)\n",
    "del número de vuelos reservados para cada grupo.\n",
    "\n",
    "3. Prueba Estadística: Realiza una prueba A/B Testing para determinar si existe una\n",
    "diferencia significativa en el número de vuelos reservados entre los diferentes\n",
    "niveles educativos."
   ]
  },
  {
   "cell_type": "markdown",
   "metadata": {},
   "source": [
    "- **Lectura archivos csv**"
   ]
  },
  {
   "cell_type": "code",
   "execution_count": null,
   "metadata": {},
   "outputs": [],
   "source": [
    "df_aerolinea_limpio = pd.read_csv(\"aerolinea_limpio.csv\", index_col = None)"
   ]
  },
  {
   "cell_type": "markdown",
   "metadata": {},
   "source": [
    "- Creación copia del Dataframe para trabajar con seguridad"
   ]
  },
  {
   "cell_type": "code",
   "execution_count": null,
   "metadata": {},
   "outputs": [],
   "source": [
    "df_aerolinea_testing = df_aerolinea_limpio.copy()\n",
    "df_aerolinea_testing.head()"
   ]
  }
 ],
 "metadata": {
  "kernelspec": {
   "display_name": "base",
   "language": "python",
   "name": "python3"
  },
  "language_info": {
   "name": "python",
   "version": "3.9.12"
  }
 },
 "nbformat": 4,
 "nbformat_minor": 2
}
